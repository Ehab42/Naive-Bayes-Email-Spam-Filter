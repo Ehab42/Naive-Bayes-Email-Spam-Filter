{
 "cells": [
  {
   "cell_type": "code",
   "execution_count": 63,
   "id": "d0b450ec",
   "metadata": {},
   "outputs": [],
   "source": [
    "import pandas as pd"
   ]
  },
  {
   "cell_type": "code",
   "execution_count": 64,
   "id": "17c68a33",
   "metadata": {},
   "outputs": [
    {
     "data": {
      "text/html": [
       "<div>\n",
       "<style scoped>\n",
       "    .dataframe tbody tr th:only-of-type {\n",
       "        vertical-align: middle;\n",
       "    }\n",
       "\n",
       "    .dataframe tbody tr th {\n",
       "        vertical-align: top;\n",
       "    }\n",
       "\n",
       "    .dataframe thead th {\n",
       "        text-align: right;\n",
       "    }\n",
       "</style>\n",
       "<table border=\"1\" class=\"dataframe\">\n",
       "  <thead>\n",
       "    <tr style=\"text-align: right;\">\n",
       "      <th></th>\n",
       "      <th>Email</th>\n",
       "      <th>Class</th>\n",
       "    </tr>\n",
       "  </thead>\n",
       "  <tbody>\n",
       "    <tr>\n",
       "      <th>0</th>\n",
       "      <td>OFFER IS SECRET</td>\n",
       "      <td>spam</td>\n",
       "    </tr>\n",
       "    <tr>\n",
       "      <th>1</th>\n",
       "      <td>PLAY SPORTS TODAY</td>\n",
       "      <td>ham</td>\n",
       "    </tr>\n",
       "    <tr>\n",
       "      <th>2</th>\n",
       "      <td>CLICK SECRET LINK</td>\n",
       "      <td>spam</td>\n",
       "    </tr>\n",
       "    <tr>\n",
       "      <th>3</th>\n",
       "      <td>WENT PLAY SPORTS</td>\n",
       "      <td>ham</td>\n",
       "    </tr>\n",
       "    <tr>\n",
       "      <th>4</th>\n",
       "      <td>SECRET SPORTS LINK</td>\n",
       "      <td>spam</td>\n",
       "    </tr>\n",
       "    <tr>\n",
       "      <th>5</th>\n",
       "      <td>SECRET SPORTS EVENT</td>\n",
       "      <td>ham</td>\n",
       "    </tr>\n",
       "    <tr>\n",
       "      <th>6</th>\n",
       "      <td>SPORTS IS TODAY</td>\n",
       "      <td>ham</td>\n",
       "    </tr>\n",
       "    <tr>\n",
       "      <th>7</th>\n",
       "      <td>SPORTS COSTS MONEY</td>\n",
       "      <td>ham</td>\n",
       "    </tr>\n",
       "  </tbody>\n",
       "</table>\n",
       "</div>"
      ],
      "text/plain": [
       "                 Email Class\n",
       "0      OFFER IS SECRET  spam\n",
       "1    PLAY SPORTS TODAY   ham\n",
       "2    CLICK SECRET LINK  spam\n",
       "3     WENT PLAY SPORTS   ham\n",
       "4   SECRET SPORTS LINK  spam\n",
       "5  SECRET SPORTS EVENT   ham\n",
       "6      SPORTS IS TODAY   ham\n",
       "7   SPORTS COSTS MONEY   ham"
      ]
     },
     "execution_count": 64,
     "metadata": {},
     "output_type": "execute_result"
    }
   ],
   "source": [
    "# Initialize lists of data\n",
    "data = [[\"OFFER IS SECRET\", \"spam\"], [\"PLAY SPORTS TODAY\", \"ham\"], [\"CLICK SECRET LINK\", \"spam\"], [\"WENT PLAY SPORTS\", 'ham'], [\"SECRET SPORTS LINK\", \"spam\"], [\"SECRET SPORTS EVENT\", \"ham\"], [\"SPORTS IS TODAY\", \"ham\"], [\"SPORTS COSTS MONEY\", \"ham\"]]\n",
    "\n",
    "# Create the pandas DataFrame\n",
    "df = pd.DataFrame(data, columns = ['Email', 'Class'])\n",
    "\n",
    "# print df\n",
    "df"
   ]
  },
  {
   "cell_type": "code",
   "execution_count": 65,
   "id": "b30f7a71",
   "metadata": {},
   "outputs": [
    {
     "data": {
      "text/html": [
       "<div>\n",
       "<style scoped>\n",
       "    .dataframe tbody tr th:only-of-type {\n",
       "        vertical-align: middle;\n",
       "    }\n",
       "\n",
       "    .dataframe tbody tr th {\n",
       "        vertical-align: top;\n",
       "    }\n",
       "\n",
       "    .dataframe thead th {\n",
       "        text-align: right;\n",
       "    }\n",
       "</style>\n",
       "<table border=\"1\" class=\"dataframe\">\n",
       "  <thead>\n",
       "    <tr style=\"text-align: right;\">\n",
       "      <th></th>\n",
       "      <th>Email</th>\n",
       "      <th>Class</th>\n",
       "    </tr>\n",
       "  </thead>\n",
       "  <tbody>\n",
       "    <tr>\n",
       "      <th>0</th>\n",
       "      <td>offer is secret</td>\n",
       "      <td>spam</td>\n",
       "    </tr>\n",
       "    <tr>\n",
       "      <th>1</th>\n",
       "      <td>play sports today</td>\n",
       "      <td>ham</td>\n",
       "    </tr>\n",
       "    <tr>\n",
       "      <th>2</th>\n",
       "      <td>click secret link</td>\n",
       "      <td>spam</td>\n",
       "    </tr>\n",
       "    <tr>\n",
       "      <th>3</th>\n",
       "      <td>went play sports</td>\n",
       "      <td>ham</td>\n",
       "    </tr>\n",
       "    <tr>\n",
       "      <th>4</th>\n",
       "      <td>secret sports link</td>\n",
       "      <td>spam</td>\n",
       "    </tr>\n",
       "    <tr>\n",
       "      <th>5</th>\n",
       "      <td>secret sports event</td>\n",
       "      <td>ham</td>\n",
       "    </tr>\n",
       "    <tr>\n",
       "      <th>6</th>\n",
       "      <td>sports is today</td>\n",
       "      <td>ham</td>\n",
       "    </tr>\n",
       "    <tr>\n",
       "      <th>7</th>\n",
       "      <td>sports costs money</td>\n",
       "      <td>ham</td>\n",
       "    </tr>\n",
       "  </tbody>\n",
       "</table>\n",
       "</div>"
      ],
      "text/plain": [
       "                 Email Class\n",
       "0      offer is secret  spam\n",
       "1    play sports today   ham\n",
       "2    click secret link  spam\n",
       "3     went play sports   ham\n",
       "4   secret sports link  spam\n",
       "5  secret sports event   ham\n",
       "6      sports is today   ham\n",
       "7   sports costs money   ham"
      ]
     },
     "execution_count": 65,
     "metadata": {},
     "output_type": "execute_result"
    }
   ],
   "source": [
    "# Lower case all the emails\n",
    "df.Email = df.Email.str.lower()\n",
    "df"
   ]
  },
  {
   "cell_type": "code",
   "execution_count": 66,
   "id": "5d2913d8",
   "metadata": {},
   "outputs": [
    {
     "data": {
      "text/plain": [
       "0        offer is secret\n",
       "1      play sports today\n",
       "2      click secret link\n",
       "3       went play sports\n",
       "4     secret sports link\n",
       "5    secret sports event\n",
       "6        sports is today\n",
       "7     sports costs money\n",
       "Name: Email, dtype: object"
      ]
     },
     "execution_count": 66,
     "metadata": {},
     "output_type": "execute_result"
    }
   ],
   "source": [
    "df['Email']"
   ]
  },
  {
   "cell_type": "code",
   "execution_count": 67,
   "id": "ce2a8291",
   "metadata": {},
   "outputs": [
    {
     "data": {
      "text/html": [
       "<div>\n",
       "<style scoped>\n",
       "    .dataframe tbody tr th:only-of-type {\n",
       "        vertical-align: middle;\n",
       "    }\n",
       "\n",
       "    .dataframe tbody tr th {\n",
       "        vertical-align: top;\n",
       "    }\n",
       "\n",
       "    .dataframe thead th {\n",
       "        text-align: right;\n",
       "    }\n",
       "</style>\n",
       "<table border=\"1\" class=\"dataframe\">\n",
       "  <thead>\n",
       "    <tr style=\"text-align: right;\">\n",
       "      <th></th>\n",
       "      <th>Email</th>\n",
       "      <th>Class</th>\n",
       "      <th>Count</th>\n",
       "    </tr>\n",
       "  </thead>\n",
       "  <tbody>\n",
       "    <tr>\n",
       "      <th>0</th>\n",
       "      <td>offer is secret</td>\n",
       "      <td>spam</td>\n",
       "      <td>3</td>\n",
       "    </tr>\n",
       "    <tr>\n",
       "      <th>1</th>\n",
       "      <td>play sports today</td>\n",
       "      <td>ham</td>\n",
       "      <td>3</td>\n",
       "    </tr>\n",
       "    <tr>\n",
       "      <th>2</th>\n",
       "      <td>click secret link</td>\n",
       "      <td>spam</td>\n",
       "      <td>3</td>\n",
       "    </tr>\n",
       "    <tr>\n",
       "      <th>3</th>\n",
       "      <td>went play sports</td>\n",
       "      <td>ham</td>\n",
       "      <td>3</td>\n",
       "    </tr>\n",
       "    <tr>\n",
       "      <th>4</th>\n",
       "      <td>secret sports link</td>\n",
       "      <td>spam</td>\n",
       "      <td>3</td>\n",
       "    </tr>\n",
       "    <tr>\n",
       "      <th>5</th>\n",
       "      <td>secret sports event</td>\n",
       "      <td>ham</td>\n",
       "      <td>3</td>\n",
       "    </tr>\n",
       "    <tr>\n",
       "      <th>6</th>\n",
       "      <td>sports is today</td>\n",
       "      <td>ham</td>\n",
       "      <td>3</td>\n",
       "    </tr>\n",
       "    <tr>\n",
       "      <th>7</th>\n",
       "      <td>sports costs money</td>\n",
       "      <td>ham</td>\n",
       "      <td>3</td>\n",
       "    </tr>\n",
       "  </tbody>\n",
       "</table>\n",
       "</div>"
      ],
      "text/plain": [
       "                 Email Class  Count\n",
       "0      offer is secret  spam      3\n",
       "1    play sports today   ham      3\n",
       "2    click secret link  spam      3\n",
       "3     went play sports   ham      3\n",
       "4   secret sports link  spam      3\n",
       "5  secret sports event   ham      3\n",
       "6      sports is today   ham      3\n",
       "7   sports costs money   ham      3"
      ]
     },
     "execution_count": 67,
     "metadata": {},
     "output_type": "execute_result"
    }
   ],
   "source": [
    "df['Count'] = [len(sent.split(\" \")) for sent in df['Email']]\n",
    "df"
   ]
  },
  {
   "cell_type": "code",
   "execution_count": 68,
   "id": "eb1bae46",
   "metadata": {},
   "outputs": [
    {
     "data": {
      "text/plain": [
       "12"
      ]
     },
     "execution_count": 68,
     "metadata": {},
     "output_type": "execute_result"
    }
   ],
   "source": [
    "# getting total number of distinct words in the emails\n",
    "email_tokens = []\n",
    "for index, row in df.iterrows():\n",
    "    email_tokens.append(row['Email'].split(' '))\n",
    "\n",
    "email_tokens = [j for sub in email_tokens for j in sub]\n",
    "\n",
    "num_of_classes = len(set(email_tokens))\n",
    "num_of_classes"
   ]
  },
  {
   "cell_type": "code",
   "execution_count": 69,
   "id": "e9820045",
   "metadata": {},
   "outputs": [
    {
     "data": {
      "text/plain": [
       "9"
      ]
     },
     "execution_count": 69,
     "metadata": {},
     "output_type": "execute_result"
    }
   ],
   "source": [
    "num_words_spam = df[df['Class'] == 'spam'].Count.sum()\n",
    "num_words_spam"
   ]
  },
  {
   "cell_type": "code",
   "execution_count": 70,
   "id": "94fb3080",
   "metadata": {},
   "outputs": [
    {
     "data": {
      "text/plain": [
       "15"
      ]
     },
     "execution_count": 70,
     "metadata": {},
     "output_type": "execute_result"
    }
   ],
   "source": [
    "num_words_ham = df[df['Class'] == 'ham'].Count.sum()\n",
    "num_words_ham"
   ]
  },
  {
   "cell_type": "code",
   "execution_count": 71,
   "id": "530feb26",
   "metadata": {},
   "outputs": [
    {
     "data": {
      "text/plain": [
       "0.375"
      ]
     },
     "execution_count": 71,
     "metadata": {},
     "output_type": "execute_result"
    }
   ],
   "source": [
    "p_spam = len(df[df['Class'] == 'spam']) / len(df)\n",
    "p_spam"
   ]
  },
  {
   "cell_type": "code",
   "execution_count": 72,
   "id": "7fa5582a",
   "metadata": {},
   "outputs": [
    {
     "data": {
      "text/plain": [
       "0.4"
      ]
     },
     "execution_count": 72,
     "metadata": {},
     "output_type": "execute_result"
    }
   ],
   "source": [
    "p_spam_smothed = (len(df[df['Class'] == 'spam']) + 1) / (len(df) + 2)\n",
    "p_spam_smothed"
   ]
  },
  {
   "cell_type": "code",
   "execution_count": 73,
   "id": "4081d125",
   "metadata": {},
   "outputs": [
    {
     "data": {
      "text/plain": [
       "0.625"
      ]
     },
     "execution_count": 73,
     "metadata": {},
     "output_type": "execute_result"
    }
   ],
   "source": [
    "p_ham = len(df[df['Class'] == 'ham']) / len(df)\n",
    "p_ham"
   ]
  },
  {
   "cell_type": "code",
   "execution_count": 74,
   "id": "13076ffc",
   "metadata": {},
   "outputs": [
    {
     "data": {
      "text/plain": [
       "0.6"
      ]
     },
     "execution_count": 74,
     "metadata": {},
     "output_type": "execute_result"
    }
   ],
   "source": [
    "p_ham_smothed = (len(df[df['Class'] == 'ham']) + 1) / (len(df) + 2)\n",
    "p_ham_smothed"
   ]
  },
  {
   "cell_type": "code",
   "execution_count": 75,
   "id": "32bdee8c",
   "metadata": {},
   "outputs": [],
   "source": [
    "# Calculate the probability that an email is spam\n",
    "def naive_bayes_spam(email):\n",
    "    email = email.lower()\n",
    "    p_email_given_spam = total_liklehood(email, 1)\n",
    "    p_email = total_liklehood(email, 1) * p_spam + total_liklehood(email, 0) * p_ham\n",
    "    prob_naive_bayes_spam = (p_email_given_spam * p_spam) / (p_email)\n",
    "    \n",
    "    return prob_naive_bayes_spam"
   ]
  },
  {
   "cell_type": "code",
   "execution_count": 76,
   "id": "bbeb4a89",
   "metadata": {},
   "outputs": [],
   "source": [
    "# Calculate the probability that an email is spam with Laplacian Smoothing\n",
    "def naive_bayes_spam_smoothed(email, spam_ham, k):\n",
    "    email = email.lower()\n",
    "    p_email_given_spam = total_liklehood_smothed(email, spam_ham, k)\n",
    "    p_email = total_liklehood_smothed(email, spam_ham, k) * p_spam_smothed + total_liklehood_smothed(email, 1 - spam_ham, 1) * p_ham_smothed\n",
    "    prob_naive_bayes_spam = (p_email_given_spam * p_spam_smothed) / (p_email)\n",
    "    \n",
    "    return prob_naive_bayes_spam"
   ]
  },
  {
   "cell_type": "code",
   "execution_count": 77,
   "id": "ad41b573",
   "metadata": {},
   "outputs": [],
   "source": [
    "# Calculate product od liklehoods of an email\n",
    "def total_liklehood(email, spam_ham):\n",
    "    total_liklehood = 1\n",
    "    tokens = email.split(\" \")\n",
    "    for token in tokens:\n",
    "        total_liklehood *= likelihood(token, spam_ham)\n",
    "    \n",
    "    return total_liklehood"
   ]
  },
  {
   "cell_type": "code",
   "execution_count": 78,
   "id": "b2b1e405",
   "metadata": {},
   "outputs": [],
   "source": [
    "# Calculate product od liklehoods of an email (smothed)\n",
    "def total_liklehood_smothed(email, spam_ham, k):\n",
    "    total_liklehood = 1\n",
    "    tokens = email.split(\" \")\n",
    "    for token in tokens:\n",
    "        total_liklehood *= likelihood_smothed(token, spam_ham, k)\n",
    "    \n",
    "    return total_liklehood"
   ]
  },
  {
   "cell_type": "code",
   "execution_count": 79,
   "id": "ef25c43d",
   "metadata": {},
   "outputs": [
    {
     "data": {
      "text/plain": [
       "9"
      ]
     },
     "execution_count": 79,
     "metadata": {},
     "output_type": "execute_result"
    }
   ],
   "source": [
    "# Calculate liklehood probability\n",
    "def likelihood(token, spam_ham):\n",
    "    if spam_ham == 1:\n",
    "        num_words = num_words_spam\n",
    "        token_count = sum([sent.split(\" \").count(token) for sent in df[df['Class'] == 'spam']['Email']])        \n",
    "    else:\n",
    "        num_words = num_words_ham\n",
    "        token_count = sum([sent.split(\" \").count(token) for sent in df[df['Class'] == 'ham']['Email']])\n",
    "        \n",
    "    return token_count / num_words\n",
    "\n",
    "num_words_spam"
   ]
  },
  {
   "cell_type": "code",
   "execution_count": 80,
   "id": "b3b4cf17",
   "metadata": {},
   "outputs": [],
   "source": [
    "# Calculate liklehood probability\n",
    "def likelihood_smothed(token, spam_ham, k):\n",
    "    if spam_ham == 1:\n",
    "        num_words = num_words_spam\n",
    "        token_count = sum([sent.split(\" \").count(token) for sent in df[df['Class'] == 'spam']['Email']])        \n",
    "    else:\n",
    "        num_words = num_words_ham\n",
    "        token_count = sum([sent.split(\" \").count(token) for sent in df[df['Class'] == 'ham']['Email']])\n",
    "        \n",
    "    return (token_count + k) / (num_words + k * num_of_classes)"
   ]
  },
  {
   "cell_type": "code",
   "execution_count": 84,
   "id": "868cd6a9",
   "metadata": {},
   "outputs": [
    {
     "data": {
      "text/plain": [
       "0.48575712143928035"
      ]
     },
     "execution_count": 84,
     "metadata": {},
     "output_type": "execute_result"
    }
   ],
   "source": [
    "# Using laplacian smoothed to avoid overfitting\n",
    "naive_bayes_spam_smoothed('today is secret', 1, 1)"
   ]
  },
  {
   "cell_type": "code",
   "execution_count": 83,
   "id": "d670838d",
   "metadata": {},
   "outputs": [
    {
     "data": {
      "text/plain": [
       "0.3199626865671642"
      ]
     },
     "execution_count": 83,
     "metadata": {},
     "output_type": "execute_result"
    }
   ],
   "source": [
    "naive_bayes_spam_smoothed('today is secret', 0, 1)"
   ]
  },
  {
   "cell_type": "code",
   "execution_count": null,
   "id": "8de53a4e",
   "metadata": {},
   "outputs": [],
   "source": []
  }
 ],
 "metadata": {
  "kernelspec": {
   "display_name": "Python 3 (ipykernel)",
   "language": "python",
   "name": "python3"
  },
  "language_info": {
   "codemirror_mode": {
    "name": "ipython",
    "version": 3
   },
   "file_extension": ".py",
   "mimetype": "text/x-python",
   "name": "python",
   "nbconvert_exporter": "python",
   "pygments_lexer": "ipython3",
   "version": "3.8.13"
  }
 },
 "nbformat": 4,
 "nbformat_minor": 5
}
